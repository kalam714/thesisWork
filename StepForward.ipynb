{
 "cells": [
  {
   "cell_type": "code",
   "execution_count": 2,
   "metadata": {},
   "outputs": [],
   "source": [
    "import pandas as pd\n",
    "import numpy as np\n",
    "import warnings\n",
    "warnings.filterwarnings('ignore')\n",
    "\n",
    "import matplotlib.pyplot as plt\n",
    "import seaborn as sns\n",
    "%matplotlib inline\n",
    "\n",
    "from sklearn.model_selection import train_test_split\n",
    "\n",
    "from sklearn.ensemble import RandomForestRegressor, RandomForestClassifier\n",
    "from sklearn.metrics import roc_auc_score\n",
    "\n",
    "from mlxtend.feature_selection import SequentialFeatureSelector as SFS"
   ]
  },
  {
   "cell_type": "code",
   "execution_count": 3,
   "metadata": {},
   "outputs": [
    {
     "data": {
      "text/html": [
       "<div>\n",
       "<style scoped>\n",
       "    .dataframe tbody tr th:only-of-type {\n",
       "        vertical-align: middle;\n",
       "    }\n",
       "\n",
       "    .dataframe tbody tr th {\n",
       "        vertical-align: top;\n",
       "    }\n",
       "\n",
       "    .dataframe thead th {\n",
       "        text-align: right;\n",
       "    }\n",
       "</style>\n",
       "<table border=\"1\" class=\"dataframe\">\n",
       "  <thead>\n",
       "    <tr style=\"text-align: right;\">\n",
       "      <th></th>\n",
       "      <th>Unnamed: 0</th>\n",
       "      <th>no_strokes_st</th>\n",
       "      <th>no_strokes_dy</th>\n",
       "      <th>speed_st</th>\n",
       "      <th>speed_dy</th>\n",
       "      <th>magnitude_vel_st</th>\n",
       "      <th>magnitude_horz_vel_st</th>\n",
       "      <th>magnitude_vert_vel_st</th>\n",
       "      <th>magnitude_vel_dy</th>\n",
       "      <th>magnitude_horz_vel_dy</th>\n",
       "      <th>...</th>\n",
       "      <th>magnitude_horz_jerk_dy</th>\n",
       "      <th>magnitude_vert_jerk_dy</th>\n",
       "      <th>ncv_st</th>\n",
       "      <th>ncv_dy</th>\n",
       "      <th>nca_st</th>\n",
       "      <th>nca_dy</th>\n",
       "      <th>in_air_stcp</th>\n",
       "      <th>on_surface_st</th>\n",
       "      <th>on_surface_dy</th>\n",
       "      <th>target</th>\n",
       "    </tr>\n",
       "  </thead>\n",
       "  <tbody>\n",
       "    <tr>\n",
       "      <th>0</th>\n",
       "      <td>0</td>\n",
       "      <td>12.0</td>\n",
       "      <td>2.0</td>\n",
       "      <td>0.000293</td>\n",
       "      <td>0.000431</td>\n",
       "      <td>0.061342</td>\n",
       "      <td>0.038319</td>\n",
       "      <td>0.039050</td>\n",
       "      <td>0.084891</td>\n",
       "      <td>0.053885</td>\n",
       "      <td>...</td>\n",
       "      <td>0.000006</td>\n",
       "      <td>0.000006</td>\n",
       "      <td>185.250000</td>\n",
       "      <td>412.857143</td>\n",
       "      <td>61.833333</td>\n",
       "      <td>470.0</td>\n",
       "      <td>0.0</td>\n",
       "      <td>3678.0</td>\n",
       "      <td>4852.0</td>\n",
       "      <td>1.0</td>\n",
       "    </tr>\n",
       "    <tr>\n",
       "      <th>1</th>\n",
       "      <td>1</td>\n",
       "      <td>4.0</td>\n",
       "      <td>6.0</td>\n",
       "      <td>0.000286</td>\n",
       "      <td>0.000281</td>\n",
       "      <td>0.119159</td>\n",
       "      <td>0.077012</td>\n",
       "      <td>0.074216</td>\n",
       "      <td>0.160497</td>\n",
       "      <td>0.101360</td>\n",
       "      <td>...</td>\n",
       "      <td>0.000010</td>\n",
       "      <td>0.000009</td>\n",
       "      <td>192.777778</td>\n",
       "      <td>173.875000</td>\n",
       "      <td>102.500000</td>\n",
       "      <td>54.0</td>\n",
       "      <td>0.0</td>\n",
       "      <td>1688.0</td>\n",
       "      <td>1587.0</td>\n",
       "      <td>1.0</td>\n",
       "    </tr>\n",
       "  </tbody>\n",
       "</table>\n",
       "<p>2 rows × 31 columns</p>\n",
       "</div>"
      ],
      "text/plain": [
       "   Unnamed: 0  no_strokes_st  no_strokes_dy  speed_st  speed_dy  \\\n",
       "0           0           12.0            2.0  0.000293  0.000431   \n",
       "1           1            4.0            6.0  0.000286  0.000281   \n",
       "\n",
       "   magnitude_vel_st  magnitude_horz_vel_st  magnitude_vert_vel_st  \\\n",
       "0          0.061342               0.038319               0.039050   \n",
       "1          0.119159               0.077012               0.074216   \n",
       "\n",
       "   magnitude_vel_dy  magnitude_horz_vel_dy  ...  magnitude_horz_jerk_dy  \\\n",
       "0          0.084891               0.053885  ...                0.000006   \n",
       "1          0.160497               0.101360  ...                0.000010   \n",
       "\n",
       "   magnitude_vert_jerk_dy      ncv_st      ncv_dy      nca_st  nca_dy  \\\n",
       "0                0.000006  185.250000  412.857143   61.833333   470.0   \n",
       "1                0.000009  192.777778  173.875000  102.500000    54.0   \n",
       "\n",
       "   in_air_stcp  on_surface_st  on_surface_dy  target  \n",
       "0          0.0         3678.0         4852.0     1.0  \n",
       "1          0.0         1688.0         1587.0     1.0  \n",
       "\n",
       "[2 rows x 31 columns]"
      ]
     },
     "execution_count": 3,
     "metadata": {},
     "output_type": "execute_result"
    }
   ],
   "source": [
    "data = pd.read_csv('data.csv')\n",
    "data.head(2)"
   ]
  },
  {
   "cell_type": "code",
   "execution_count": 4,
   "metadata": {},
   "outputs": [
    {
     "data": {
      "text/plain": [
       "((53, 29), (24, 29))"
      ]
     },
     "execution_count": 4,
     "metadata": {},
     "output_type": "execute_result"
    }
   ],
   "source": [
    "X_train, X_test, y_train, y_test = train_test_split(\n",
    "    data.drop(labels=['target', 'Unnamed: 0'], axis=1),\n",
    "    data['target'],\n",
    "    test_size=0.3,\n",
    "    random_state=0)\n",
    "\n",
    "X_train.shape, X_test.shape"
   ]
  },
  {
   "cell_type": "code",
   "execution_count": 5,
   "metadata": {},
   "outputs": [
    {
     "name": "stderr",
     "output_type": "stream",
     "text": [
      "[Parallel(n_jobs=1)]: Using backend SequentialBackend with 1 concurrent workers.\n",
      "[Parallel(n_jobs=1)]: Done   1 out of   1 | elapsed:    3.6s remaining:    0.0s\n",
      "[Parallel(n_jobs=1)]: Done  29 out of  29 | elapsed:   14.8s finished\n",
      "\n",
      "[2021-09-30 20:32:50] Features: 1/10 -- score: 0.9355158730158731[Parallel(n_jobs=1)]: Using backend SequentialBackend with 1 concurrent workers.\n",
      "[Parallel(n_jobs=1)]: Done   1 out of   1 | elapsed:    0.3s remaining:    0.0s\n",
      "[Parallel(n_jobs=1)]: Done  28 out of  28 | elapsed:   13.5s finished\n",
      "\n",
      "[2021-09-30 20:33:03] Features: 2/10 -- score: 0.9642857142857143[Parallel(n_jobs=1)]: Using backend SequentialBackend with 1 concurrent workers.\n",
      "[Parallel(n_jobs=1)]: Done   1 out of   1 | elapsed:    0.3s remaining:    0.0s\n",
      "[Parallel(n_jobs=1)]: Done  27 out of  27 | elapsed:   12.2s finished\n",
      "\n",
      "[2021-09-30 20:33:15] Features: 3/10 -- score: 0.9940476190476191[Parallel(n_jobs=1)]: Using backend SequentialBackend with 1 concurrent workers.\n",
      "[Parallel(n_jobs=1)]: Done   1 out of   1 | elapsed:    0.4s remaining:    0.0s\n",
      "[Parallel(n_jobs=1)]: Done  26 out of  26 | elapsed:   12.9s finished\n",
      "\n",
      "[2021-09-30 20:33:28] Features: 4/10 -- score: 0.9920634920634921[Parallel(n_jobs=1)]: Using backend SequentialBackend with 1 concurrent workers.\n",
      "[Parallel(n_jobs=1)]: Done   1 out of   1 | elapsed:    0.4s remaining:    0.0s\n",
      "[Parallel(n_jobs=1)]: Done  25 out of  25 | elapsed:   12.8s finished\n",
      "\n",
      "[2021-09-30 20:33:41] Features: 5/10 -- score: 0.9940476190476191[Parallel(n_jobs=1)]: Using backend SequentialBackend with 1 concurrent workers.\n",
      "[Parallel(n_jobs=1)]: Done   1 out of   1 | elapsed:    0.4s remaining:    0.0s\n",
      "[Parallel(n_jobs=1)]: Done  24 out of  24 | elapsed:   12.4s finished\n",
      "\n",
      "[2021-09-30 20:33:54] Features: 6/10 -- score: 0.9880952380952381[Parallel(n_jobs=1)]: Using backend SequentialBackend with 1 concurrent workers.\n",
      "[Parallel(n_jobs=1)]: Done   1 out of   1 | elapsed:    0.5s remaining:    0.0s\n",
      "[Parallel(n_jobs=1)]: Done  23 out of  23 | elapsed:   11.7s finished\n",
      "\n",
      "[2021-09-30 20:34:06] Features: 7/10 -- score: 0.9880952380952381[Parallel(n_jobs=1)]: Using backend SequentialBackend with 1 concurrent workers.\n",
      "[Parallel(n_jobs=1)]: Done   1 out of   1 | elapsed:    0.5s remaining:    0.0s\n",
      "[Parallel(n_jobs=1)]: Done  22 out of  22 | elapsed:   13.0s finished\n",
      "\n",
      "[2021-09-30 20:34:19] Features: 8/10 -- score: 0.9851190476190476[Parallel(n_jobs=1)]: Using backend SequentialBackend with 1 concurrent workers.\n",
      "[Parallel(n_jobs=1)]: Done   1 out of   1 | elapsed:    0.7s remaining:    0.0s\n",
      "[Parallel(n_jobs=1)]: Done  21 out of  21 | elapsed:   15.1s finished\n",
      "\n",
      "[2021-09-30 20:34:34] Features: 9/10 -- score: 0.9682539682539684[Parallel(n_jobs=1)]: Using backend SequentialBackend with 1 concurrent workers.\n",
      "[Parallel(n_jobs=1)]: Done   1 out of   1 | elapsed:    0.7s remaining:    0.0s\n",
      "[Parallel(n_jobs=1)]: Done  20 out of  20 | elapsed:   14.3s finished\n",
      "\n",
      "[2021-09-30 20:34:48] Features: 10/10 -- score: 0.9821428571428571"
     ]
    }
   ],
   "source": [
    "sfs1 = SFS(RandomForestClassifier(n_jobs=4), \n",
    "           k_features=10, \n",
    "           forward=True, \n",
    "           floating=False, \n",
    "           verbose=2,\n",
    "           scoring='roc_auc',\n",
    "           cv=3)\n",
    "\n",
    "sfs1 = sfs1.fit(np.array(X_train.fillna(0)), y_train)"
   ]
  },
  {
   "cell_type": "code",
   "execution_count": 6,
   "metadata": {},
   "outputs": [
    {
     "data": {
      "text/plain": [
       "Index(['no_strokes_st', 'no_strokes_dy', 'magnitude_horz_vel_dy',\n",
       "       'magnitude_acc_dy', 'magnitude_vert_acc_dy', 'magnitude_horz_jerk_dy',\n",
       "       'ncv_dy', 'nca_st', 'nca_dy', 'in_air_stcp'],\n",
       "      dtype='object')"
      ]
     },
     "execution_count": 6,
     "metadata": {},
     "output_type": "execute_result"
    }
   ],
   "source": [
    "selected_feat= X_train.columns[list(sfs1.k_feature_idx_)]\n",
    "selected_feat"
   ]
  },
  {
   "cell_type": "code",
   "execution_count": 7,
   "metadata": {},
   "outputs": [
    {
     "data": {
      "text/plain": [
       "0.9821428571428571"
      ]
     },
     "execution_count": 7,
     "metadata": {},
     "output_type": "execute_result"
    }
   ],
   "source": [
    "sfs1.k_score_"
   ]
  },
  {
   "cell_type": "code",
   "execution_count": 8,
   "metadata": {
    "scrolled": true
   },
   "outputs": [
    {
     "data": {
      "text/html": [
       "<div>\n",
       "<style scoped>\n",
       "    .dataframe tbody tr th:only-of-type {\n",
       "        vertical-align: middle;\n",
       "    }\n",
       "\n",
       "    .dataframe tbody tr th {\n",
       "        vertical-align: top;\n",
       "    }\n",
       "\n",
       "    .dataframe thead th {\n",
       "        text-align: right;\n",
       "    }\n",
       "</style>\n",
       "<table border=\"1\" class=\"dataframe\">\n",
       "  <thead>\n",
       "    <tr style=\"text-align: right;\">\n",
       "      <th></th>\n",
       "      <th>feature_idx</th>\n",
       "      <th>cv_scores</th>\n",
       "      <th>avg_score</th>\n",
       "      <th>feature_names</th>\n",
       "      <th>ci_bound</th>\n",
       "      <th>std_dev</th>\n",
       "      <th>std_err</th>\n",
       "    </tr>\n",
       "  </thead>\n",
       "  <tbody>\n",
       "    <tr>\n",
       "      <th>1</th>\n",
       "      <td>(15,)</td>\n",
       "      <td>[0.9375, 0.9642857142857143, 0.9047619047619049]</td>\n",
       "      <td>0.935516</td>\n",
       "      <td>(15,)</td>\n",
       "      <td>0.0547752</td>\n",
       "      <td>0.024341</td>\n",
       "      <td>0.0172117</td>\n",
       "    </tr>\n",
       "    <tr>\n",
       "      <th>2</th>\n",
       "      <td>(15, 26)</td>\n",
       "      <td>[0.9642857142857143, 0.9285714285714286, 1.0]</td>\n",
       "      <td>0.964286</td>\n",
       "      <td>(15, 26)</td>\n",
       "      <td>0.0656209</td>\n",
       "      <td>0.0291606</td>\n",
       "      <td>0.0206197</td>\n",
       "    </tr>\n",
       "    <tr>\n",
       "      <th>3</th>\n",
       "      <td>(15, 20, 26)</td>\n",
       "      <td>[1.0, 0.9821428571428572, 1.0]</td>\n",
       "      <td>0.994048</td>\n",
       "      <td>(15, 20, 26)</td>\n",
       "      <td>0.0189431</td>\n",
       "      <td>0.00841794</td>\n",
       "      <td>0.00595238</td>\n",
       "    </tr>\n",
       "    <tr>\n",
       "      <th>4</th>\n",
       "      <td>(15, 20, 24, 26)</td>\n",
       "      <td>[1.0, 1.0, 0.9761904761904763]</td>\n",
       "      <td>0.992063</td>\n",
       "      <td>(15, 20, 24, 26)</td>\n",
       "      <td>0.0252575</td>\n",
       "      <td>0.0112239</td>\n",
       "      <td>0.00793651</td>\n",
       "    </tr>\n",
       "    <tr>\n",
       "      <th>5</th>\n",
       "      <td>(15, 20, 23, 24, 26)</td>\n",
       "      <td>[1.0, 0.9821428571428572, 1.0]</td>\n",
       "      <td>0.994048</td>\n",
       "      <td>(15, 20, 23, 24, 26)</td>\n",
       "      <td>0.0189431</td>\n",
       "      <td>0.00841794</td>\n",
       "      <td>0.00595238</td>\n",
       "    </tr>\n",
       "    <tr>\n",
       "      <th>6</th>\n",
       "      <td>(1, 15, 20, 23, 24, 26)</td>\n",
       "      <td>[1.0, 0.9642857142857143, 1.0]</td>\n",
       "      <td>0.988095</td>\n",
       "      <td>(1, 15, 20, 23, 24, 26)</td>\n",
       "      <td>0.0378863</td>\n",
       "      <td>0.0168359</td>\n",
       "      <td>0.0119048</td>\n",
       "    </tr>\n",
       "    <tr>\n",
       "      <th>7</th>\n",
       "      <td>(1, 13, 15, 20, 23, 24, 26)</td>\n",
       "      <td>[1.0, 0.9642857142857143, 1.0]</td>\n",
       "      <td>0.988095</td>\n",
       "      <td>(1, 13, 15, 20, 23, 24, 26)</td>\n",
       "      <td>0.0378863</td>\n",
       "      <td>0.0168359</td>\n",
       "      <td>0.0119048</td>\n",
       "    </tr>\n",
       "    <tr>\n",
       "      <th>8</th>\n",
       "      <td>(0, 1, 13, 15, 20, 23, 24, 26)</td>\n",
       "      <td>[1.0, 0.9553571428571428, 1.0]</td>\n",
       "      <td>0.985119</td>\n",
       "      <td>(0, 1, 13, 15, 20, 23, 24, 26)</td>\n",
       "      <td>0.0473578</td>\n",
       "      <td>0.0210448</td>\n",
       "      <td>0.014881</td>\n",
       "    </tr>\n",
       "    <tr>\n",
       "      <th>9</th>\n",
       "      <td>(0, 1, 8, 13, 15, 20, 23, 24, 26)</td>\n",
       "      <td>[1.0, 0.9285714285714286, 0.9761904761904763]</td>\n",
       "      <td>0.968254</td>\n",
       "      <td>(0, 1, 8, 13, 15, 20, 23, 24, 26)</td>\n",
       "      <td>0.0668251</td>\n",
       "      <td>0.0296957</td>\n",
       "      <td>0.020998</td>\n",
       "    </tr>\n",
       "    <tr>\n",
       "      <th>10</th>\n",
       "      <td>(0, 1, 8, 13, 15, 20, 23, 24, 25, 26)</td>\n",
       "      <td>[1.0, 0.9464285714285714, 1.0]</td>\n",
       "      <td>0.982143</td>\n",
       "      <td>(0, 1, 8, 13, 15, 20, 23, 24, 25, 26)</td>\n",
       "      <td>0.0568294</td>\n",
       "      <td>0.0252538</td>\n",
       "      <td>0.0178571</td>\n",
       "    </tr>\n",
       "  </tbody>\n",
       "</table>\n",
       "</div>"
      ],
      "text/plain": [
       "                              feature_idx  \\\n",
       "1                                   (15,)   \n",
       "2                                (15, 26)   \n",
       "3                            (15, 20, 26)   \n",
       "4                        (15, 20, 24, 26)   \n",
       "5                    (15, 20, 23, 24, 26)   \n",
       "6                 (1, 15, 20, 23, 24, 26)   \n",
       "7             (1, 13, 15, 20, 23, 24, 26)   \n",
       "8          (0, 1, 13, 15, 20, 23, 24, 26)   \n",
       "9       (0, 1, 8, 13, 15, 20, 23, 24, 26)   \n",
       "10  (0, 1, 8, 13, 15, 20, 23, 24, 25, 26)   \n",
       "\n",
       "                                           cv_scores avg_score  \\\n",
       "1   [0.9375, 0.9642857142857143, 0.9047619047619049]  0.935516   \n",
       "2      [0.9642857142857143, 0.9285714285714286, 1.0]  0.964286   \n",
       "3                     [1.0, 0.9821428571428572, 1.0]  0.994048   \n",
       "4                     [1.0, 1.0, 0.9761904761904763]  0.992063   \n",
       "5                     [1.0, 0.9821428571428572, 1.0]  0.994048   \n",
       "6                     [1.0, 0.9642857142857143, 1.0]  0.988095   \n",
       "7                     [1.0, 0.9642857142857143, 1.0]  0.988095   \n",
       "8                     [1.0, 0.9553571428571428, 1.0]  0.985119   \n",
       "9      [1.0, 0.9285714285714286, 0.9761904761904763]  0.968254   \n",
       "10                    [1.0, 0.9464285714285714, 1.0]  0.982143   \n",
       "\n",
       "                            feature_names   ci_bound     std_dev     std_err  \n",
       "1                                   (15,)  0.0547752    0.024341   0.0172117  \n",
       "2                                (15, 26)  0.0656209   0.0291606   0.0206197  \n",
       "3                            (15, 20, 26)  0.0189431  0.00841794  0.00595238  \n",
       "4                        (15, 20, 24, 26)  0.0252575   0.0112239  0.00793651  \n",
       "5                    (15, 20, 23, 24, 26)  0.0189431  0.00841794  0.00595238  \n",
       "6                 (1, 15, 20, 23, 24, 26)  0.0378863   0.0168359   0.0119048  \n",
       "7             (1, 13, 15, 20, 23, 24, 26)  0.0378863   0.0168359   0.0119048  \n",
       "8          (0, 1, 13, 15, 20, 23, 24, 26)  0.0473578   0.0210448    0.014881  \n",
       "9       (0, 1, 8, 13, 15, 20, 23, 24, 26)  0.0668251   0.0296957    0.020998  \n",
       "10  (0, 1, 8, 13, 15, 20, 23, 24, 25, 26)  0.0568294   0.0252538   0.0178571  "
      ]
     },
     "execution_count": 8,
     "metadata": {},
     "output_type": "execute_result"
    }
   ],
   "source": [
    "pd.DataFrame.from_dict(sfs1.get_metric_dict()).T"
   ]
  },
  {
   "cell_type": "code",
   "execution_count": 9,
   "metadata": {},
   "outputs": [
    {
     "name": "stderr",
     "output_type": "stream",
     "text": [
      "[Parallel(n_jobs=1)]: Using backend SequentialBackend with 1 concurrent workers.\n",
      "[Parallel(n_jobs=1)]: Done   1 out of   1 | elapsed:    0.6s remaining:    0.0s\n",
      "[Parallel(n_jobs=1)]: Done  29 out of  29 | elapsed:   17.4s finished\n",
      "\n",
      "[2021-09-30 20:35:06] Features: 1/26 -- score: 0.9017857142857144[Parallel(n_jobs=1)]: Using backend SequentialBackend with 1 concurrent workers.\n",
      "[Parallel(n_jobs=1)]: Done   1 out of   1 | elapsed:    0.6s remaining:    0.0s\n",
      "[Parallel(n_jobs=1)]: Done  28 out of  28 | elapsed:   17.9s finished\n",
      "\n",
      "[2021-09-30 20:35:24] Features: 2/26 -- score: 0.9642857142857143[Parallel(n_jobs=1)]: Using backend SequentialBackend with 1 concurrent workers.\n",
      "[Parallel(n_jobs=1)]: Done   1 out of   1 | elapsed:    0.4s remaining:    0.0s\n",
      "[Parallel(n_jobs=1)]: Done  27 out of  27 | elapsed:   14.3s finished\n",
      "\n",
      "[2021-09-30 20:35:39] Features: 3/26 -- score: 0.9821428571428572[Parallel(n_jobs=1)]: Using backend SequentialBackend with 1 concurrent workers.\n",
      "[Parallel(n_jobs=1)]: Done   1 out of   1 | elapsed:    0.5s remaining:    0.0s\n",
      "[Parallel(n_jobs=1)]: Done  26 out of  26 | elapsed:   14.3s finished\n",
      "\n",
      "[2021-09-30 20:35:53] Features: 4/26 -- score: 0.9821428571428571[Parallel(n_jobs=1)]: Using backend SequentialBackend with 1 concurrent workers.\n",
      "[Parallel(n_jobs=1)]: Done   1 out of   1 | elapsed:    0.4s remaining:    0.0s\n",
      "[Parallel(n_jobs=1)]: Done  25 out of  25 | elapsed:   13.4s finished\n",
      "\n",
      "[2021-09-30 20:36:07] Features: 5/26 -- score: 0.9821428571428571[Parallel(n_jobs=1)]: Using backend SequentialBackend with 1 concurrent workers.\n",
      "[Parallel(n_jobs=1)]: Done   1 out of   1 | elapsed:    0.6s remaining:    0.0s\n",
      "[Parallel(n_jobs=1)]: Done  24 out of  24 | elapsed:   13.8s finished\n",
      "\n",
      "[2021-09-30 20:36:21] Features: 6/26 -- score: 0.9880952380952381[Parallel(n_jobs=1)]: Using backend SequentialBackend with 1 concurrent workers.\n",
      "[Parallel(n_jobs=1)]: Done   1 out of   1 | elapsed:    0.4s remaining:    0.0s\n",
      "[Parallel(n_jobs=1)]: Done  23 out of  23 | elapsed:   11.8s finished\n",
      "\n",
      "[2021-09-30 20:36:32] Features: 7/26 -- score: 0.9880952380952381[Parallel(n_jobs=1)]: Using backend SequentialBackend with 1 concurrent workers.\n",
      "[Parallel(n_jobs=1)]: Done   1 out of   1 | elapsed:    0.4s remaining:    0.0s\n",
      "[Parallel(n_jobs=1)]: Done  22 out of  22 | elapsed:   12.0s finished\n",
      "\n",
      "[2021-09-30 20:36:45] Features: 8/26 -- score: 1.0[Parallel(n_jobs=1)]: Using backend SequentialBackend with 1 concurrent workers.\n",
      "[Parallel(n_jobs=1)]: Done   1 out of   1 | elapsed:    0.4s remaining:    0.0s\n",
      "[Parallel(n_jobs=1)]: Done  21 out of  21 | elapsed:   10.6s finished\n",
      "\n",
      "[2021-09-30 20:36:55] Features: 9/26 -- score: 0.9861111111111112[Parallel(n_jobs=1)]: Using backend SequentialBackend with 1 concurrent workers.\n",
      "[Parallel(n_jobs=1)]: Done   1 out of   1 | elapsed:    0.4s remaining:    0.0s\n",
      "[Parallel(n_jobs=1)]: Done  20 out of  20 | elapsed:   11.0s finished\n",
      "\n",
      "[2021-09-30 20:37:06] Features: 10/26 -- score: 0.9861111111111112[Parallel(n_jobs=1)]: Using backend SequentialBackend with 1 concurrent workers.\n",
      "[Parallel(n_jobs=1)]: Done   1 out of   1 | elapsed:    0.4s remaining:    0.0s\n",
      "[Parallel(n_jobs=1)]: Done  19 out of  19 | elapsed:   10.1s finished\n",
      "\n",
      "[2021-09-30 20:37:17] Features: 11/26 -- score: 0.9861111111111112[Parallel(n_jobs=1)]: Using backend SequentialBackend with 1 concurrent workers.\n",
      "[Parallel(n_jobs=1)]: Done   1 out of   1 | elapsed:    0.5s remaining:    0.0s\n",
      "[Parallel(n_jobs=1)]: Done  18 out of  18 | elapsed:   10.0s finished\n",
      "\n",
      "[2021-09-30 20:37:27] Features: 12/26 -- score: 0.9831349206349206[Parallel(n_jobs=1)]: Using backend SequentialBackend with 1 concurrent workers.\n",
      "[Parallel(n_jobs=1)]: Done   1 out of   1 | elapsed:    0.5s remaining:    0.0s\n",
      "[Parallel(n_jobs=1)]: Done  17 out of  17 | elapsed:    8.9s finished\n",
      "\n",
      "[2021-09-30 20:37:36] Features: 13/26 -- score: 0.9861111111111112[Parallel(n_jobs=1)]: Using backend SequentialBackend with 1 concurrent workers.\n",
      "[Parallel(n_jobs=1)]: Done   1 out of   1 | elapsed:    0.5s remaining:    0.0s\n",
      "[Parallel(n_jobs=1)]: Done  16 out of  16 | elapsed:    8.3s finished\n",
      "\n",
      "[2021-09-30 20:37:44] Features: 14/26 -- score: 0.9861111111111112[Parallel(n_jobs=1)]: Using backend SequentialBackend with 1 concurrent workers.\n",
      "[Parallel(n_jobs=1)]: Done   1 out of   1 | elapsed:    0.4s remaining:    0.0s\n",
      "[Parallel(n_jobs=1)]: Done  15 out of  15 | elapsed:    7.7s finished\n",
      "\n",
      "[2021-09-30 20:37:52] Features: 15/26 -- score: 0.9841269841269842[Parallel(n_jobs=1)]: Using backend SequentialBackend with 1 concurrent workers.\n",
      "[Parallel(n_jobs=1)]: Done   1 out of   1 | elapsed:    0.4s remaining:    0.0s\n",
      "[Parallel(n_jobs=1)]: Done  14 out of  14 | elapsed:    7.1s finished\n",
      "\n",
      "[2021-09-30 20:37:59] Features: 16/26 -- score: 0.9761904761904763[Parallel(n_jobs=1)]: Using backend SequentialBackend with 1 concurrent workers.\n",
      "[Parallel(n_jobs=1)]: Done   1 out of   1 | elapsed:    0.4s remaining:    0.0s\n",
      "[Parallel(n_jobs=1)]: Done  13 out of  13 | elapsed:    6.6s finished\n",
      "\n",
      "[2021-09-30 20:38:06] Features: 17/26 -- score: 0.9742063492063492[Parallel(n_jobs=1)]: Using backend SequentialBackend with 1 concurrent workers.\n",
      "[Parallel(n_jobs=1)]: Done   1 out of   1 | elapsed:    0.4s remaining:    0.0s\n",
      "[Parallel(n_jobs=1)]: Done  12 out of  12 | elapsed:    6.5s finished\n",
      "\n",
      "[2021-09-30 20:38:12] Features: 18/26 -- score: 0.9642857142857144[Parallel(n_jobs=1)]: Using backend SequentialBackend with 1 concurrent workers.\n",
      "[Parallel(n_jobs=1)]: Done   1 out of   1 | elapsed:    0.4s remaining:    0.0s\n",
      "[Parallel(n_jobs=1)]: Done  11 out of  11 | elapsed:    5.8s finished\n",
      "\n",
      "[2021-09-30 20:38:18] Features: 19/26 -- score: 0.9652777777777777[Parallel(n_jobs=1)]: Using backend SequentialBackend with 1 concurrent workers.\n",
      "[Parallel(n_jobs=1)]: Done   1 out of   1 | elapsed:    0.4s remaining:    0.0s\n",
      "[Parallel(n_jobs=1)]: Done  10 out of  10 | elapsed:    5.1s finished\n",
      "\n",
      "[2021-09-30 20:38:23] Features: 20/26 -- score: 0.9722222222222223[Parallel(n_jobs=1)]: Using backend SequentialBackend with 1 concurrent workers.\n",
      "[Parallel(n_jobs=1)]: Done   1 out of   1 | elapsed:    0.5s remaining:    0.0s\n",
      "[Parallel(n_jobs=1)]: Done   9 out of   9 | elapsed:    4.6s finished\n",
      "\n",
      "[2021-09-30 20:38:28] Features: 21/26 -- score: 0.9593253968253969[Parallel(n_jobs=1)]: Using backend SequentialBackend with 1 concurrent workers.\n",
      "[Parallel(n_jobs=1)]: Done   1 out of   1 | elapsed:    0.4s remaining:    0.0s\n",
      "[Parallel(n_jobs=1)]: Done   8 out of   8 | elapsed:    4.0s finished\n",
      "\n",
      "[2021-09-30 20:38:32] Features: 22/26 -- score: 0.9285714285714285[Parallel(n_jobs=1)]: Using backend SequentialBackend with 1 concurrent workers.\n",
      "[Parallel(n_jobs=1)]: Done   1 out of   1 | elapsed:    0.4s remaining:    0.0s\n",
      "[Parallel(n_jobs=1)]: Done   7 out of   7 | elapsed:    4.8s finished\n",
      "\n",
      "[2021-09-30 20:38:37] Features: 23/26 -- score: 0.9345238095238096[Parallel(n_jobs=1)]: Using backend SequentialBackend with 1 concurrent workers.\n",
      "[Parallel(n_jobs=1)]: Done   1 out of   1 | elapsed:    0.6s remaining:    0.0s\n",
      "[Parallel(n_jobs=1)]: Done   6 out of   6 | elapsed:    3.4s finished\n",
      "\n",
      "[2021-09-30 20:38:41] Features: 24/26 -- score: 0.9166666666666666[Parallel(n_jobs=1)]: Using backend SequentialBackend with 1 concurrent workers.\n",
      "[Parallel(n_jobs=1)]: Done   1 out of   1 | elapsed:    0.4s remaining:    0.0s\n",
      "[Parallel(n_jobs=1)]: Done   5 out of   5 | elapsed:    2.4s finished\n",
      "\n",
      "[2021-09-30 20:38:43] Features: 25/26 -- score: 0.9166666666666666[Parallel(n_jobs=1)]: Using backend SequentialBackend with 1 concurrent workers.\n",
      "[Parallel(n_jobs=1)]: Done   1 out of   1 | elapsed:    0.5s remaining:    0.0s\n",
      "[Parallel(n_jobs=1)]: Done   4 out of   4 | elapsed:    2.0s finished\n",
      "\n",
      "[2021-09-30 20:38:45] Features: 26/26 -- score: 0.9265873015873017"
     ]
    }
   ],
   "source": [
    "sfs1 = SFS(RandomForestClassifier(n_jobs=4), \n",
    "           k_features=(1,26), \n",
    "           forward=True, \n",
    "           floating=False, \n",
    "           verbose=2,\n",
    "           scoring='roc_auc',\n",
    "           cv=3)\n",
    "\n",
    "sfs1 = sfs1.fit(np.array(X_train.fillna(0)), y_train)"
   ]
  },
  {
   "cell_type": "code",
   "execution_count": 10,
   "metadata": {},
   "outputs": [
    {
     "data": {
      "text/plain": [
       "1.0"
      ]
     },
     "execution_count": 10,
     "metadata": {},
     "output_type": "execute_result"
    }
   ],
   "source": [
    "sfs1.k_score_"
   ]
  },
  {
   "cell_type": "code",
   "execution_count": 11,
   "metadata": {},
   "outputs": [
    {
     "data": {
      "text/plain": [
       "Index(['no_strokes_dy', 'speed_st', 'speed_dy', 'magnitude_vert_acc_dy',\n",
       "       'magnitude_horz_jerk_st', 'magnitude_jerk_dy', 'in_air_stcp',\n",
       "       'on_surface_dy'],\n",
       "      dtype='object')"
      ]
     },
     "execution_count": 11,
     "metadata": {},
     "output_type": "execute_result"
    }
   ],
   "source": [
    "selected_feat= X_train.columns[list(sfs1.k_feature_idx_)]\n",
    "selected_feat"
   ]
  },
  {
   "cell_type": "code",
   "execution_count": 23,
   "metadata": {},
   "outputs": [
    {
     "data": {
      "text/html": [
       "<div>\n",
       "<style scoped>\n",
       "    .dataframe tbody tr th:only-of-type {\n",
       "        vertical-align: middle;\n",
       "    }\n",
       "\n",
       "    .dataframe tbody tr th {\n",
       "        vertical-align: top;\n",
       "    }\n",
       "\n",
       "    .dataframe thead th {\n",
       "        text-align: right;\n",
       "    }\n",
       "</style>\n",
       "<table border=\"1\" class=\"dataframe\">\n",
       "  <thead>\n",
       "    <tr style=\"text-align: right;\">\n",
       "      <th></th>\n",
       "      <th>magnitude_vert_acc_dy</th>\n",
       "      <th>magnitude_jerk_dy</th>\n",
       "      <th>in_air_stcp</th>\n",
       "    </tr>\n",
       "  </thead>\n",
       "  <tbody>\n",
       "    <tr>\n",
       "      <th>0</th>\n",
       "      <td>0.000282</td>\n",
       "      <td>0.000010</td>\n",
       "      <td>0.0</td>\n",
       "    </tr>\n",
       "    <tr>\n",
       "      <th>1</th>\n",
       "      <td>0.000409</td>\n",
       "      <td>0.000015</td>\n",
       "      <td>0.0</td>\n",
       "    </tr>\n",
       "    <tr>\n",
       "      <th>2</th>\n",
       "      <td>0.001782</td>\n",
       "      <td>0.000051</td>\n",
       "      <td>0.0</td>\n",
       "    </tr>\n",
       "    <tr>\n",
       "      <th>3</th>\n",
       "      <td>0.000289</td>\n",
       "      <td>0.000011</td>\n",
       "      <td>0.0</td>\n",
       "    </tr>\n",
       "    <tr>\n",
       "      <th>4</th>\n",
       "      <td>0.000298</td>\n",
       "      <td>0.000013</td>\n",
       "      <td>0.0</td>\n",
       "    </tr>\n",
       "    <tr>\n",
       "      <th>...</th>\n",
       "      <td>...</td>\n",
       "      <td>...</td>\n",
       "      <td>...</td>\n",
       "    </tr>\n",
       "    <tr>\n",
       "      <th>65</th>\n",
       "      <td>0.000198</td>\n",
       "      <td>0.000007</td>\n",
       "      <td>0.0</td>\n",
       "    </tr>\n",
       "    <tr>\n",
       "      <th>66</th>\n",
       "      <td>0.000197</td>\n",
       "      <td>0.000007</td>\n",
       "      <td>0.0</td>\n",
       "    </tr>\n",
       "    <tr>\n",
       "      <th>67</th>\n",
       "      <td>0.000216</td>\n",
       "      <td>0.000007</td>\n",
       "      <td>0.0</td>\n",
       "    </tr>\n",
       "    <tr>\n",
       "      <th>68</th>\n",
       "      <td>0.000215</td>\n",
       "      <td>0.000007</td>\n",
       "      <td>0.0</td>\n",
       "    </tr>\n",
       "    <tr>\n",
       "      <th>69</th>\n",
       "      <td>0.000148</td>\n",
       "      <td>0.000006</td>\n",
       "      <td>0.0</td>\n",
       "    </tr>\n",
       "  </tbody>\n",
       "</table>\n",
       "<p>70 rows × 3 columns</p>\n",
       "</div>"
      ],
      "text/plain": [
       "    magnitude_vert_acc_dy  magnitude_jerk_dy  in_air_stcp\n",
       "0                0.000282           0.000010          0.0\n",
       "1                0.000409           0.000015          0.0\n",
       "2                0.001782           0.000051          0.0\n",
       "3                0.000289           0.000011          0.0\n",
       "4                0.000298           0.000013          0.0\n",
       "..                    ...                ...          ...\n",
       "65               0.000198           0.000007          0.0\n",
       "66               0.000197           0.000007          0.0\n",
       "67               0.000216           0.000007          0.0\n",
       "68               0.000215           0.000007          0.0\n",
       "69               0.000148           0.000006          0.0\n",
       "\n",
       "[70 rows x 3 columns]"
      ]
     },
     "execution_count": 23,
     "metadata": {},
     "output_type": "execute_result"
    }
   ],
   "source": [
    "features=data[['magnitude_vert_acc_dy','magnitude_jerk_dy','in_air_stcp',]]\n",
    "features.head(70)"
   ]
  },
  {
   "cell_type": "code",
   "execution_count": 13,
   "metadata": {},
   "outputs": [],
   "source": [
    "y=data[['target']]\n"
   ]
  },
  {
   "cell_type": "code",
   "execution_count": 14,
   "metadata": {},
   "outputs": [],
   "source": [
    "from sklearn.preprocessing import MinMaxScaler\n",
    "scaler=MinMaxScaler((-1,1))\n",
    "x=scaler.fit_transform(features)"
   ]
  },
  {
   "cell_type": "code",
   "execution_count": 15,
   "metadata": {},
   "outputs": [],
   "source": [
    "x_train,x_test,y_train,y_test=train_test_split(x, y, test_size=0.2, random_state=5)"
   ]
  },
  {
   "cell_type": "code",
   "execution_count": 16,
   "metadata": {},
   "outputs": [
    {
     "data": {
      "text/plain": [
       "RandomForestClassifier()"
      ]
     },
     "execution_count": 16,
     "metadata": {},
     "output_type": "execute_result"
    }
   ],
   "source": [
    "from sklearn.metrics import accuracy_score,mean_squared_error\n",
    "model=RandomForestClassifier()\n",
    "model.fit(x_train,y_train)"
   ]
  },
  {
   "cell_type": "code",
   "execution_count": 17,
   "metadata": {},
   "outputs": [
    {
     "name": "stdout",
     "output_type": "stream",
     "text": [
      "100.0\n"
     ]
    }
   ],
   "source": [
    "y_predtr=model.predict(x_train)\n",
    "print(accuracy_score(y_train,y_predtr)*100)"
   ]
  },
  {
   "cell_type": "code",
   "execution_count": 18,
   "metadata": {},
   "outputs": [
    {
     "name": "stdout",
     "output_type": "stream",
     "text": [
      "93.75\n"
     ]
    }
   ],
   "source": [
    "y_pred=model.predict(x_test)\n",
    "print(accuracy_score(y_test, y_pred)*100)"
   ]
  },
  {
   "cell_type": "code",
   "execution_count": 24,
   "metadata": {},
   "outputs": [
    {
     "name": "stdout",
     "output_type": "stream",
     "text": [
      "[0.]\n",
      "The Person does not have Parkinsons Disease\n"
     ]
    }
   ],
   "source": [
    "input_data = (0.000148,0.000006,0.0)\n",
    "input_data_as_numpy_array = np.asarray(input_data)\n",
    "input_data_reshaped = input_data_as_numpy_array.reshape(1,-1)\n",
    "std_data = scaler.transform(input_data_reshaped)\n",
    "prediction = model.predict(std_data)\n",
    "print(prediction)\n",
    "if (prediction[0] == 0):\n",
    "  print(\"The Person does not have Parkinsons Disease\")\n",
    "\n",
    "else:\n",
    "  print(\"The Person has Parkinsons\")\n"
   ]
  },
  {
   "cell_type": "code",
   "execution_count": null,
   "metadata": {},
   "outputs": [],
   "source": []
  }
 ],
 "metadata": {
  "kernelspec": {
   "display_name": "Python 3",
   "language": "python",
   "name": "python3"
  },
  "language_info": {
   "codemirror_mode": {
    "name": "ipython",
    "version": 3
   },
   "file_extension": ".py",
   "mimetype": "text/x-python",
   "name": "python",
   "nbconvert_exporter": "python",
   "pygments_lexer": "ipython3",
   "version": "3.8.5"
  }
 },
 "nbformat": 4,
 "nbformat_minor": 4
}
