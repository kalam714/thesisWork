{
 "cells": [
  {
   "cell_type": "code",
   "execution_count": 1,
   "metadata": {},
   "outputs": [],
   "source": [
    "import pandas as pd\n",
    "import numpy as np\n",
    "import matplotlib.pyplot as plt\n",
    "import seaborn as sns\n",
    "from sklearn.model_selection import train_test_split\n",
    "# mutual_info_classif, mutual_info_regression: Functions for calculating Mutual Information Between classes and the target\n",
    "from sklearn.feature_selection import mutual_info_classif\n",
    "from sklearn.feature_selection import SelectKBest, SelectPercentile\n",
    "%matplotlib inline"
   ]
  },
  {
   "cell_type": "code",
   "execution_count": 2,
   "metadata": {},
   "outputs": [],
   "source": [
    "data = pd.read_csv('data.csv')"
   ]
  },
  {
   "cell_type": "code",
   "execution_count": 3,
   "metadata": {},
   "outputs": [
    {
     "data": {
      "text/html": [
       "<div>\n",
       "<style scoped>\n",
       "    .dataframe tbody tr th:only-of-type {\n",
       "        vertical-align: middle;\n",
       "    }\n",
       "\n",
       "    .dataframe tbody tr th {\n",
       "        vertical-align: top;\n",
       "    }\n",
       "\n",
       "    .dataframe thead th {\n",
       "        text-align: right;\n",
       "    }\n",
       "</style>\n",
       "<table border=\"1\" class=\"dataframe\">\n",
       "  <thead>\n",
       "    <tr style=\"text-align: right;\">\n",
       "      <th></th>\n",
       "      <th>no_strokes_st</th>\n",
       "      <th>no_strokes_dy</th>\n",
       "      <th>speed_st</th>\n",
       "      <th>speed_dy</th>\n",
       "      <th>magnitude_vel_st</th>\n",
       "      <th>magnitude_horz_vel_st</th>\n",
       "      <th>magnitude_vert_vel_st</th>\n",
       "      <th>magnitude_vel_dy</th>\n",
       "      <th>magnitude_horz_vel_dy</th>\n",
       "      <th>magnitude_vert_vel_dy</th>\n",
       "      <th>...</th>\n",
       "      <th>magnitude_jerk_dy</th>\n",
       "      <th>magnitude_horz_jerk_dy</th>\n",
       "      <th>magnitude_vert_jerk_dy</th>\n",
       "      <th>ncv_st</th>\n",
       "      <th>ncv_dy</th>\n",
       "      <th>nca_st</th>\n",
       "      <th>nca_dy</th>\n",
       "      <th>in_air_stcp</th>\n",
       "      <th>on_surface_st</th>\n",
       "      <th>on_surface_dy</th>\n",
       "    </tr>\n",
       "  </thead>\n",
       "  <tbody>\n",
       "    <tr>\n",
       "      <th>0</th>\n",
       "      <td>12.0</td>\n",
       "      <td>2.0</td>\n",
       "      <td>0.000293</td>\n",
       "      <td>0.000431</td>\n",
       "      <td>0.061342</td>\n",
       "      <td>0.038319</td>\n",
       "      <td>0.039050</td>\n",
       "      <td>0.084891</td>\n",
       "      <td>0.053885</td>\n",
       "      <td>0.052829</td>\n",
       "      <td>...</td>\n",
       "      <td>0.000010</td>\n",
       "      <td>0.000006</td>\n",
       "      <td>0.000006</td>\n",
       "      <td>185.250000</td>\n",
       "      <td>412.857143</td>\n",
       "      <td>61.833333</td>\n",
       "      <td>470.000000</td>\n",
       "      <td>0.0</td>\n",
       "      <td>3678.0</td>\n",
       "      <td>4852.0</td>\n",
       "    </tr>\n",
       "    <tr>\n",
       "      <th>1</th>\n",
       "      <td>4.0</td>\n",
       "      <td>6.0</td>\n",
       "      <td>0.000286</td>\n",
       "      <td>0.000281</td>\n",
       "      <td>0.119159</td>\n",
       "      <td>0.077012</td>\n",
       "      <td>0.074216</td>\n",
       "      <td>0.160497</td>\n",
       "      <td>0.101360</td>\n",
       "      <td>0.099211</td>\n",
       "      <td>...</td>\n",
       "      <td>0.000015</td>\n",
       "      <td>0.000010</td>\n",
       "      <td>0.000009</td>\n",
       "      <td>192.777778</td>\n",
       "      <td>173.875000</td>\n",
       "      <td>102.500000</td>\n",
       "      <td>54.000000</td>\n",
       "      <td>0.0</td>\n",
       "      <td>1688.0</td>\n",
       "      <td>1587.0</td>\n",
       "    </tr>\n",
       "    <tr>\n",
       "      <th>2</th>\n",
       "      <td>4.0</td>\n",
       "      <td>4.0</td>\n",
       "      <td>0.000278</td>\n",
       "      <td>0.000277</td>\n",
       "      <td>0.113889</td>\n",
       "      <td>0.071547</td>\n",
       "      <td>0.073336</td>\n",
       "      <td>0.191965</td>\n",
       "      <td>0.117724</td>\n",
       "      <td>0.127062</td>\n",
       "      <td>...</td>\n",
       "      <td>0.000051</td>\n",
       "      <td>0.000023</td>\n",
       "      <td>0.000042</td>\n",
       "      <td>263.571429</td>\n",
       "      <td>136.333333</td>\n",
       "      <td>120.500000</td>\n",
       "      <td>25.200000</td>\n",
       "      <td>0.0</td>\n",
       "      <td>2246.0</td>\n",
       "      <td>1332.0</td>\n",
       "    </tr>\n",
       "    <tr>\n",
       "      <th>3</th>\n",
       "      <td>4.0</td>\n",
       "      <td>4.0</td>\n",
       "      <td>0.000286</td>\n",
       "      <td>0.000275</td>\n",
       "      <td>0.154621</td>\n",
       "      <td>0.101146</td>\n",
       "      <td>0.096300</td>\n",
       "      <td>0.152413</td>\n",
       "      <td>0.101235</td>\n",
       "      <td>0.091241</td>\n",
       "      <td>...</td>\n",
       "      <td>0.000011</td>\n",
       "      <td>0.000009</td>\n",
       "      <td>0.000005</td>\n",
       "      <td>225.285714</td>\n",
       "      <td>308.400000</td>\n",
       "      <td>59.333333</td>\n",
       "      <td>177.000000</td>\n",
       "      <td>0.0</td>\n",
       "      <td>1775.0</td>\n",
       "      <td>1703.0</td>\n",
       "    </tr>\n",
       "    <tr>\n",
       "      <th>4</th>\n",
       "      <td>2.0</td>\n",
       "      <td>2.0</td>\n",
       "      <td>0.000279</td>\n",
       "      <td>0.000270</td>\n",
       "      <td>0.060058</td>\n",
       "      <td>0.039449</td>\n",
       "      <td>0.036737</td>\n",
       "      <td>0.081577</td>\n",
       "      <td>0.052451</td>\n",
       "      <td>0.050634</td>\n",
       "      <td>...</td>\n",
       "      <td>0.000013</td>\n",
       "      <td>0.000010</td>\n",
       "      <td>0.000007</td>\n",
       "      <td>226.700000</td>\n",
       "      <td>168.000000</td>\n",
       "      <td>79.500000</td>\n",
       "      <td>43.857143</td>\n",
       "      <td>0.0</td>\n",
       "      <td>4764.0</td>\n",
       "      <td>3335.0</td>\n",
       "    </tr>\n",
       "  </tbody>\n",
       "</table>\n",
       "<p>5 rows × 29 columns</p>\n",
       "</div>"
      ],
      "text/plain": [
       "   no_strokes_st  no_strokes_dy  speed_st  speed_dy  magnitude_vel_st  \\\n",
       "0           12.0            2.0  0.000293  0.000431          0.061342   \n",
       "1            4.0            6.0  0.000286  0.000281          0.119159   \n",
       "2            4.0            4.0  0.000278  0.000277          0.113889   \n",
       "3            4.0            4.0  0.000286  0.000275          0.154621   \n",
       "4            2.0            2.0  0.000279  0.000270          0.060058   \n",
       "\n",
       "   magnitude_horz_vel_st  magnitude_vert_vel_st  magnitude_vel_dy  \\\n",
       "0               0.038319               0.039050          0.084891   \n",
       "1               0.077012               0.074216          0.160497   \n",
       "2               0.071547               0.073336          0.191965   \n",
       "3               0.101146               0.096300          0.152413   \n",
       "4               0.039449               0.036737          0.081577   \n",
       "\n",
       "   magnitude_horz_vel_dy  magnitude_vert_vel_dy  ...  magnitude_jerk_dy  \\\n",
       "0               0.053885               0.052829  ...           0.000010   \n",
       "1               0.101360               0.099211  ...           0.000015   \n",
       "2               0.117724               0.127062  ...           0.000051   \n",
       "3               0.101235               0.091241  ...           0.000011   \n",
       "4               0.052451               0.050634  ...           0.000013   \n",
       "\n",
       "   magnitude_horz_jerk_dy  magnitude_vert_jerk_dy      ncv_st      ncv_dy  \\\n",
       "0                0.000006                0.000006  185.250000  412.857143   \n",
       "1                0.000010                0.000009  192.777778  173.875000   \n",
       "2                0.000023                0.000042  263.571429  136.333333   \n",
       "3                0.000009                0.000005  225.285714  308.400000   \n",
       "4                0.000010                0.000007  226.700000  168.000000   \n",
       "\n",
       "       nca_st      nca_dy  in_air_stcp  on_surface_st  on_surface_dy  \n",
       "0   61.833333  470.000000          0.0         3678.0         4852.0  \n",
       "1  102.500000   54.000000          0.0         1688.0         1587.0  \n",
       "2  120.500000   25.200000          0.0         2246.0         1332.0  \n",
       "3   59.333333  177.000000          0.0         1775.0         1703.0  \n",
       "4   79.500000   43.857143          0.0         4764.0         3335.0  \n",
       "\n",
       "[5 rows x 29 columns]"
      ]
     },
     "execution_count": 3,
     "metadata": {},
     "output_type": "execute_result"
    }
   ],
   "source": [
    "X = data.drop(['target','Unnamed: 0'], axis=1)\n",
    "X.head()"
   ]
  },
  {
   "cell_type": "code",
   "execution_count": 4,
   "metadata": {},
   "outputs": [
    {
     "data": {
      "text/plain": [
       "0    1.0\n",
       "1    1.0\n",
       "2    1.0\n",
       "3    1.0\n",
       "4    1.0\n",
       "Name: target, dtype: float64"
      ]
     },
     "execution_count": 4,
     "metadata": {},
     "output_type": "execute_result"
    }
   ],
   "source": [
    "y = data['target']\n",
    "y.head()"
   ]
  },
  {
   "cell_type": "code",
   "execution_count": 5,
   "metadata": {},
   "outputs": [
    {
     "data": {
      "text/plain": [
       "((61, 29), (61,), (16, 29), (16,))"
      ]
     },
     "execution_count": 5,
     "metadata": {},
     "output_type": "execute_result"
    }
   ],
   "source": [
    "X_train, X_test, y_train, y_test = train_test_split(X, y, test_size=0.2, random_state=101)\n",
    "X_train.shape, y_train.shape, X_test.shape, y_test.shape"
   ]
  },
  {
   "cell_type": "code",
   "execution_count": 6,
   "metadata": {},
   "outputs": [
    {
     "data": {
      "text/plain": [
       "array([0.        , 0.0859394 , 0.18210685, 0.16420309, 0.05564819,\n",
       "       0.10451337, 0.06936973, 0.06312688, 0.05128623, 0.05760692,\n",
       "       0.14270778, 0.08749731, 0.08560663, 0.27112519, 0.254735  ,\n",
       "       0.2605102 , 0.16299146, 0.16101126, 0.14069776, 0.27066743,\n",
       "       0.25480683, 0.2569802 , 0.1330462 , 0.26268777, 0.01462223,\n",
       "       0.11869881, 0.22940015, 0.08835243, 0.        ])"
      ]
     },
     "execution_count": 6,
     "metadata": {},
     "output_type": "execute_result"
    }
   ],
   "source": [
    "mutual_info = mutual_info_classif(X_train.fillna(0), y_train)\n",
    "mutual_info\n"
   ]
  },
  {
   "cell_type": "code",
   "execution_count": 7,
   "metadata": {},
   "outputs": [
    {
     "data": {
      "text/plain": [
       "magnitude_acc_dy          0.271125\n",
       "magnitude_jerk_dy         0.270667\n",
       "ncv_dy                    0.262688\n",
       "magnitude_vert_acc_dy     0.260510\n",
       "magnitude_vert_jerk_dy    0.256980\n",
       "magnitude_horz_jerk_dy    0.254807\n",
       "magnitude_horz_acc_dy     0.254735\n",
       "in_air_stcp               0.229400\n",
       "speed_st                  0.182107\n",
       "speed_dy                  0.164203\n",
       "magnitude_jerk_st         0.162991\n",
       "magnitude_horz_jerk_st    0.161011\n",
       "magnitude_acc_st          0.142708\n",
       "magnitude_vert_jerk_st    0.140698\n",
       "ncv_st                    0.133046\n",
       "nca_dy                    0.118699\n",
       "magnitude_horz_vel_st     0.104513\n",
       "on_surface_st             0.088352\n",
       "magnitude_horz_acc_st     0.087497\n",
       "no_strokes_dy             0.085939\n",
       "magnitude_vert_acc_st     0.085607\n",
       "magnitude_vert_vel_st     0.069370\n",
       "magnitude_vel_dy          0.063127\n",
       "magnitude_vert_vel_dy     0.057607\n",
       "magnitude_vel_st          0.055648\n",
       "magnitude_horz_vel_dy     0.051286\n",
       "nca_st                    0.014622\n",
       "on_surface_dy             0.000000\n",
       "no_strokes_st             0.000000\n",
       "dtype: float64"
      ]
     },
     "execution_count": 7,
     "metadata": {},
     "output_type": "execute_result"
    }
   ],
   "source": [
    "mi_series = pd.Series(mutual_info)\n",
    "mi_series.index = X_train.columns\n",
    "mi_series.sort_values(ascending=False)"
   ]
  },
  {
   "cell_type": "code",
   "execution_count": 8,
   "metadata": {},
   "outputs": [
    {
     "data": {
      "text/plain": [
       "<AxesSubplot:>"
      ]
     },
     "execution_count": 8,
     "metadata": {},
     "output_type": "execute_result"
    },
    {
     "data": {
      "image/png": "[encoded data removed]",
      "text/plain": [
       "<Figure size 720x576 with 1 Axes>"
      ]
     },
     "metadata": {
      "needs_background": "light"
     },
     "output_type": "display_data"
    }
   ],
   "source": [
    "mi_series.sort_values(ascending=False).plot.bar(figsize=(10,8))"
   ]
  },
  {
   "cell_type": "code",
   "execution_count": 9,
   "metadata": {},
   "outputs": [
    {
     "name": "stdout",
     "output_type": "stream",
     "text": [
      "Selected top 10 features: Index(['speed_st', 'speed_dy', 'magnitude_acc_dy', 'magnitude_horz_acc_dy',\n",
      "       'magnitude_vert_acc_dy', 'magnitude_jerk_dy', 'magnitude_horz_jerk_dy',\n",
      "       'magnitude_vert_jerk_dy', 'ncv_dy', 'in_air_stcp'],\n",
      "      dtype='object')\n"
     ]
    }
   ],
   "source": [
    "# Select K best features\n",
    "k_best_features = SelectKBest(mutual_info_classif, k=10).fit(X_train.fillna(0), y_train)\n",
    "print('Selected top 12 features: {}'.format(X_train.columns[k_best_features.get_support()]))"
   ]
  },
  {
   "cell_type": "code",
   "execution_count": 10,
   "metadata": {},
   "outputs": [
    {
     "data": {
      "text/html": [
       "<div>\n",
       "<style scoped>\n",
       "    .dataframe tbody tr th:only-of-type {\n",
       "        vertical-align: middle;\n",
       "    }\n",
       "\n",
       "    .dataframe tbody tr th {\n",
       "        vertical-align: top;\n",
       "    }\n",
       "\n",
       "    .dataframe thead th {\n",
       "        text-align: right;\n",
       "    }\n",
       "</style>\n",
       "<table border=\"1\" class=\"dataframe\">\n",
       "  <thead>\n",
       "    <tr style=\"text-align: right;\">\n",
       "      <th></th>\n",
       "      <th>speed_st</th>\n",
       "      <th>speed_dy</th>\n",
       "      <th>magnitude_acc_dy</th>\n",
       "      <th>magnitude_horz_acc_dy</th>\n",
       "      <th>magnitude_vert_acc_dy</th>\n",
       "      <th>magnitude_jerk_dy</th>\n",
       "      <th>magnitude_horz_jerk_dy</th>\n",
       "      <th>magnitude_jerk_dy</th>\n",
       "      <th>magnitude_horz_jerk_dy</th>\n",
       "      <th>magnitude_vert_jerk_dy</th>\n",
       "      <th>ncv_dy</th>\n",
       "      <th>in_air_stcp</th>\n",
       "    </tr>\n",
       "  </thead>\n",
       "  <tbody>\n",
       "    <tr>\n",
       "      <th>0</th>\n",
       "      <td>0.000293</td>\n",
       "      <td>0.000431</td>\n",
       "      <td>0.000466</td>\n",
       "      <td>0.000305</td>\n",
       "      <td>0.000282</td>\n",
       "      <td>0.000010</td>\n",
       "      <td>0.000006</td>\n",
       "      <td>0.000010</td>\n",
       "      <td>0.000006</td>\n",
       "      <td>0.000006</td>\n",
       "      <td>412.857143</td>\n",
       "      <td>0.0</td>\n",
       "    </tr>\n",
       "    <tr>\n",
       "      <th>1</th>\n",
       "      <td>0.000286</td>\n",
       "      <td>0.000281</td>\n",
       "      <td>0.000728</td>\n",
       "      <td>0.000510</td>\n",
       "      <td>0.000409</td>\n",
       "      <td>0.000015</td>\n",
       "      <td>0.000010</td>\n",
       "      <td>0.000015</td>\n",
       "      <td>0.000010</td>\n",
       "      <td>0.000009</td>\n",
       "      <td>173.875000</td>\n",
       "      <td>0.0</td>\n",
       "    </tr>\n",
       "  </tbody>\n",
       "</table>\n",
       "</div>"
      ],
      "text/plain": [
       "   speed_st  speed_dy  magnitude_acc_dy  magnitude_horz_acc_dy  \\\n",
       "0  0.000293  0.000431          0.000466               0.000305   \n",
       "1  0.000286  0.000281          0.000728               0.000510   \n",
       "\n",
       "   magnitude_vert_acc_dy  magnitude_jerk_dy  magnitude_horz_jerk_dy  \\\n",
       "0               0.000282           0.000010                0.000006   \n",
       "1               0.000409           0.000015                0.000010   \n",
       "\n",
       "   magnitude_jerk_dy  magnitude_horz_jerk_dy  magnitude_vert_jerk_dy  \\\n",
       "0           0.000010                0.000006                0.000006   \n",
       "1           0.000015                0.000010                0.000009   \n",
       "\n",
       "       ncv_dy  in_air_stcp  \n",
       "0  412.857143          0.0  \n",
       "1  173.875000          0.0  "
      ]
     },
     "execution_count": 10,
     "metadata": {},
     "output_type": "execute_result"
    }
   ],
   "source": [
    "features=data[['speed_st','speed_dy','magnitude_acc_dy','magnitude_horz_acc_dy','magnitude_vert_acc_dy','magnitude_jerk_dy','magnitude_horz_jerk_dy','magnitude_jerk_dy','magnitude_horz_jerk_dy',\n",
    "               'magnitude_vert_jerk_dy','ncv_dy','in_air_stcp']]\n",
    "features.head(2)"
   ]
  },
  {
   "cell_type": "code",
   "execution_count": 11,
   "metadata": {},
   "outputs": [],
   "source": [
    "y = data.iloc[:,-1]   \n"
   ]
  },
  {
   "cell_type": "code",
   "execution_count": 12,
   "metadata": {},
   "outputs": [],
   "source": [
    "from sklearn.preprocessing import MinMaxScaler\n",
    "scaler=MinMaxScaler((-1,1))\n",
    "x=scaler.fit_transform(features)"
   ]
  },
  {
   "cell_type": "code",
   "execution_count": 13,
   "metadata": {},
   "outputs": [],
   "source": [
    "from sklearn.model_selection import train_test_split,cross_val_score\n",
    "from sklearn.metrics import accuracy_score,mean_squared_error\n",
    "from sklearn.metrics import f1_score\n",
    "from sklearn.linear_model import LogisticRegression\n",
    "from xgboost import XGBRFClassifier,XGBClassifier\n",
    "from sklearn.svm import SVC\n",
    "from sklearn.tree import DecisionTreeClassifier\n",
    "from sklearn.ensemble import AdaBoostClassifier,ExtraTreesClassifier,GradientBoostingClassifier,RandomForestClassifier"
   ]
  },
  {
   "cell_type": "code",
   "execution_count": 14,
   "metadata": {},
   "outputs": [],
   "source": [
    "x_train,x_test,y_train,y_test=train_test_split(x, y, test_size=0.2, random_state=5)"
   ]
  },
  {
   "cell_type": "code",
   "execution_count": 15,
   "metadata": {},
   "outputs": [
    {
     "name": "stderr",
     "output_type": "stream",
     "text": [
      "C:\\Users\\lenovo\\anaconda3\\lib\\site-packages\\xgboost\\sklearn.py:892: UserWarning: The use of label encoder in XGBClassifier is deprecated and will be removed in a future release. To remove this warning, do the following: 1) Pass option use_label_encoder=False when constructing XGBClassifier object; and 2) Encode your labels (y) as integers starting with 0, i.e. 0, 1, 2, ..., [num_class - 1].\n",
      "  warnings.warn(label_encoder_deprecation_msg, UserWarning)\n"
     ]
    },
    {
     "name": "stdout",
     "output_type": "stream",
     "text": [
      "[20:48:02] WARNING: C:/Users/Administrator/workspace/xgboost-win64_release_1.3.0/src/learner.cc:1061: Starting in XGBoost 1.3.0, the default evaluation metric used with the objective 'binary:logistic' was changed from 'error' to 'logloss'. Explicitly set eval_metric if you'd like to restore the old behavior.\n",
      "[20:48:02] WARNING: C:/Users/Administrator/workspace/xgboost-win64_release_1.3.0/src/learner.cc:1061: Starting in XGBoost 1.3.0, the default evaluation metric used with the objective 'binary:logistic' was changed from 'error' to 'logloss'. Explicitly set eval_metric if you'd like to restore the old behavior.\n",
      "[20:48:02] WARNING: C:/Users/Administrator/workspace/xgboost-win64_release_1.3.0/src/learner.cc:1061: Starting in XGBoost 1.3.0, the default evaluation metric used with the objective 'binary:logistic' was changed from 'error' to 'logloss'. Explicitly set eval_metric if you'd like to restore the old behavior.\n",
      "[20:48:02] WARNING: C:/Users/Administrator/workspace/xgboost-win64_release_1.3.0/src/learner.cc:1061: Starting in XGBoost 1.3.0, the default evaluation metric used with the objective 'binary:logistic' was changed from 'error' to 'logloss'. Explicitly set eval_metric if you'd like to restore the old behavior.\n",
      "[20:48:02] WARNING: C:/Users/Administrator/workspace/xgboost-win64_release_1.3.0/src/learner.cc:1061: Starting in XGBoost 1.3.0, the default evaluation metric used with the objective 'binary:logistic' was changed from 'error' to 'logloss'. Explicitly set eval_metric if you'd like to restore the old behavior.\n",
      "[20:48:02] WARNING: C:/Users/Administrator/workspace/xgboost-win64_release_1.3.0/src/learner.cc:1061: Starting in XGBoost 1.3.0, the default evaluation metric used with the objective 'binary:logistic' was changed from 'error' to 'logloss'. Explicitly set eval_metric if you'd like to restore the old behavior.\n",
      "[20:48:02] WARNING: C:/Users/Administrator/workspace/xgboost-win64_release_1.3.0/src/learner.cc:1061: Starting in XGBoost 1.3.0, the default evaluation metric used with the objective 'binary:logistic' was changed from 'error' to 'logloss'. Explicitly set eval_metric if you'd like to restore the old behavior.\n",
      "[20:48:02] WARNING: C:/Users/Administrator/workspace/xgboost-win64_release_1.3.0/src/learner.cc:1061: Starting in XGBoost 1.3.0, the default evaluation metric used with the objective 'binary:logistic' was changed from 'error' to 'logloss'. Explicitly set eval_metric if you'd like to restore the old behavior.\n",
      "[20:48:02] WARNING: C:/Users/Administrator/workspace/xgboost-win64_release_1.3.0/src/learner.cc:1061: Starting in XGBoost 1.3.0, the default evaluation metric used with the objective 'binary:logistic' was changed from 'error' to 'logloss'. Explicitly set eval_metric if you'd like to restore the old behavior."
     ]
    },
    {
     "name": "stderr",
     "output_type": "stream",
     "text": [
      "C:\\Users\\lenovo\\anaconda3\\lib\\site-packages\\xgboost\\sklearn.py:892: UserWarning: The use of label encoder in XGBClassifier is deprecated and will be removed in a future release. To remove this warning, do the following: 1) Pass option use_label_encoder=False when constructing XGBClassifier object; and 2) Encode your labels (y) as integers starting with 0, i.e. 0, 1, 2, ..., [num_class - 1].\n",
      "  warnings.warn(label_encoder_deprecation_msg, UserWarning)\n"
     ]
    },
    {
     "name": "stdout",
     "output_type": "stream",
     "text": [
      "\n",
      "[20:48:02] WARNING: C:/Users/Administrator/workspace/xgboost-win64_release_1.3.0/src/learner.cc:1061: Starting in XGBoost 1.3.0, the default evaluation metric used with the objective 'binary:logistic' was changed from 'error' to 'logloss'. Explicitly set eval_metric if you'd like to restore the old behavior.\n"
     ]
    }
   ],
   "source": [
    "lr=cross_val_score(LogisticRegression(),x_train,y_train)\n",
    "xgbc=cross_val_score(XGBRFClassifier(),x_train,y_train)\n",
    "xgb=cross_val_score(XGBClassifier(),x_train,y_train)\n",
    "svm=cross_val_score(SVC(),x_train,y_train)\n",
    "\n",
    "dtc=cross_val_score(DecisionTreeClassifier(),x_train,y_train)\n",
    "adb=cross_val_score(AdaBoostClassifier(),x_train,y_train)\n",
    "etc=cross_val_score(ExtraTreesClassifier(),x_train,y_train)\n",
    "gbc=cross_val_score(GradientBoostingClassifier(),x_train,y_train)\n",
    "rfc=cross_val_score(RandomForestClassifier(),x_train,y_train)"
   ]
  },
  {
   "cell_type": "code",
   "execution_count": 16,
   "metadata": {},
   "outputs": [
    {
     "name": "stdout",
     "output_type": "stream",
     "text": [
      "log reg [0.76923077 0.83333333 0.83333333 0.83333333 0.75      ] 0.803846153846154\n",
      "xgb [0.92307692 0.83333333 0.91666667 0.91666667 1.        ] 0.9179487179487179\n",
      "svm [0.76923077 0.83333333 0.83333333 0.83333333 0.75      ] 0.803846153846154\n",
      "dtc [0.92307692 0.83333333 0.91666667 0.91666667 0.91666667] 0.9012820512820513\n",
      "adb [0.92307692 0.83333333 0.91666667 0.91666667 1.        ] 0.9179487179487179\n",
      "etc [0.92307692 1.         1.         1.         1.        ] 0.9846153846153847\n",
      "gbc [0.92307692 0.83333333 0.91666667 0.91666667 1.        ] 0.9179487179487179\n",
      "rfc [0.92307692 1.         1.         0.91666667 1.        ] 0.9679487179487178\n"
     ]
    }
   ],
   "source": [
    "print('log reg',lr,lr.mean())\n",
    "print('xgb',xgb,xgb.mean())\n",
    "print('svm',svm,svm.mean())\n",
    "#print('nb',nb,nb.mean)\n",
    "print('dtc',dtc,dtc.mean())\n",
    "print('adb',adb,adb.mean())\n",
    "#print('bbc',bbc,bbc.mean())\n",
    "print('etc',etc,etc.mean())\n",
    "print('gbc',gbc,gbc.mean())\n",
    "print('rfc',rfc,rfc.mean())"
   ]
  },
  {
   "cell_type": "code",
   "execution_count": 17,
   "metadata": {},
   "outputs": [
    {
     "name": "stdout",
     "output_type": "stream",
     "text": [
      "[20:48:04] WARNING: C:/Users/Administrator/workspace/xgboost-win64_release_1.3.0/src/learner.cc:1061: Starting in XGBoost 1.3.0, the default evaluation metric used with the objective 'binary:logistic' was changed from 'error' to 'logloss'. Explicitly set eval_metric if you'd like to restore the old behavior.\n"
     ]
    },
    {
     "name": "stderr",
     "output_type": "stream",
     "text": [
      "C:\\Users\\lenovo\\anaconda3\\lib\\site-packages\\xgboost\\sklearn.py:892: UserWarning: The use of label encoder in XGBClassifier is deprecated and will be removed in a future release. To remove this warning, do the following: 1) Pass option use_label_encoder=False when constructing XGBClassifier object; and 2) Encode your labels (y) as integers starting with 0, i.e. 0, 1, 2, ..., [num_class - 1].\n",
      "  warnings.warn(label_encoder_deprecation_msg, UserWarning)\n"
     ]
    },
    {
     "data": {
      "text/plain": [
       "XGBClassifier(base_score=0.5, booster='gbtree', colsample_bylevel=1,\n",
       "              colsample_bynode=1, colsample_bytree=1, gamma=0, gpu_id=-1,\n",
       "              importance_type='gain', interaction_constraints='',\n",
       "              learning_rate=0.300000012, max_delta_step=0, max_depth=6,\n",
       "              min_child_weight=1, missing=nan, monotone_constraints='()',\n",
       "              n_estimators=100, n_jobs=4, num_parallel_tree=1, random_state=0,\n",
       "              reg_alpha=0, reg_lambda=1, scale_pos_weight=1, subsample=1,\n",
       "              tree_method='exact', validate_parameters=1, verbosity=None)"
      ]
     },
     "execution_count": 17,
     "metadata": {},
     "output_type": "execute_result"
    }
   ],
   "source": [
    "model=XGBClassifier()\n",
    "model.fit(x_train,y_train)"
   ]
  },
  {
   "cell_type": "code",
   "execution_count": 18,
   "metadata": {},
   "outputs": [
    {
     "name": "stdout",
     "output_type": "stream",
     "text": [
      "98.36065573770492\n"
     ]
    }
   ],
   "source": [
    "y_predtr=model.predict(x_train)\n",
    "print(accuracy_score(y_train,y_predtr)*100)"
   ]
  },
  {
   "cell_type": "code",
   "execution_count": 19,
   "metadata": {},
   "outputs": [
    {
     "name": "stdout",
     "output_type": "stream",
     "text": [
      "93.75\n"
     ]
    }
   ],
   "source": [
    "y_pred=model.predict(x_test)\n",
    "print(accuracy_score(y_test, y_pred)*100)"
   ]
  },
  {
   "cell_type": "code",
   "execution_count": 20,
   "metadata": {},
   "outputs": [
    {
     "data": {
      "text/plain": [
       "RandomForestClassifier()"
      ]
     },
     "execution_count": 20,
     "metadata": {},
     "output_type": "execute_result"
    }
   ],
   "source": [
    "model=RandomForestClassifier()\n",
    "model.fit(x_train,y_train)"
   ]
  },
  {
   "cell_type": "code",
   "execution_count": 21,
   "metadata": {},
   "outputs": [
    {
     "name": "stdout",
     "output_type": "stream",
     "text": [
      "100.0\n"
     ]
    }
   ],
   "source": [
    "y_predtr=model.predict(x_train)\n",
    "print(accuracy_score(y_train,y_predtr)*100)"
   ]
  },
  {
   "cell_type": "code",
   "execution_count": 22,
   "metadata": {},
   "outputs": [
    {
     "name": "stdout",
     "output_type": "stream",
     "text": [
      "87.5\n"
     ]
    }
   ],
   "source": [
    "y_pred=model.predict(x_test)\n",
    "print(accuracy_score(y_test, y_pred)*100)"
   ]
  },
  {
   "cell_type": "code",
   "execution_count": 23,
   "metadata": {},
   "outputs": [
    {
     "data": {
      "text/plain": [
       "ExtraTreesClassifier()"
      ]
     },
     "execution_count": 23,
     "metadata": {},
     "output_type": "execute_result"
    }
   ],
   "source": [
    "model=ExtraTreesClassifier()\n",
    "model.fit(x_train,y_train)"
   ]
  },
  {
   "cell_type": "code",
   "execution_count": 24,
   "metadata": {},
   "outputs": [
    {
     "name": "stdout",
     "output_type": "stream",
     "text": [
      "100.0\n"
     ]
    }
   ],
   "source": [
    "y_predtr=model.predict(x_train)\n",
    "print(accuracy_score(y_train,y_predtr)*100)"
   ]
  },
  {
   "cell_type": "code",
   "execution_count": 25,
   "metadata": {},
   "outputs": [
    {
     "name": "stdout",
     "output_type": "stream",
     "text": [
      "87.5\n"
     ]
    }
   ],
   "source": [
    "y_pred=model.predict(x_test)\n",
    "print(accuracy_score(y_test, y_pred)*100)"
   ]
  },
  {
   "cell_type": "code",
   "execution_count": 27,
   "metadata": {},
   "outputs": [
    {
     "name": "stdout",
     "output_type": "stream",
     "text": [
      "[1.]\n",
      "The Person has Parkinsons\n"
     ]
    }
   ],
   "source": [
    "input_data = (4852.0,3678.0,0.0,470.000000,61.833333,412.857143,185.250000,12.0,2.0,0.084891,2.3454,45.6754)\n",
    "input_data_as_numpy_array = np.asarray(input_data)\n",
    "input_data_reshaped = input_data_as_numpy_array.reshape(1,-1)\n",
    "std_data = scaler.transform(input_data_reshaped)\n",
    "prediction = model.predict(std_data)\n",
    "print(prediction)\n",
    "if (prediction[0] == 0):\n",
    "  print(\"The Person does not have Parkinsons Disease\")\n",
    "\n",
    "else:\n",
    "  print(\"The Person has Parkinsons\")\n"
   ]
  },
  {
   "cell_type": "code",
   "execution_count": null,
   "metadata": {},
   "outputs": [],
   "source": []
  }
 ],
 "metadata": {
  "kernelspec": {
   "display_name": "Python 3",
   "language": "python",
   "name": "python3"
  },
  "language_info": {
   "codemirror_mode": {
    "name": "ipython",
    "version": 3
   },
   "file_extension": ".py",
   "mimetype": "text/x-python",
   "name": "python",
   "nbconvert_exporter": "python",
   "pygments_lexer": "ipython3",
   "version": "3.8.5"
  }
 },
 "nbformat": 4,
 "nbformat_minor": 4
}
